{
 "cells": [
  {
   "cell_type": "markdown",
   "metadata": {},
   "source": [
    "# Potentiel des méthodes de deep learning pour cartographier l’occupation du sol de La Réunion à partir d’images de télédétection\n",
    "\n",
    "### Etape 1 : Création de la base de donnée \n",
    "Les dfférentes section de ce NoteBook permettent de créer une base de donnée pour entrainer et valider le réseau de neurone. <br>\n",
    "Ce script permet d'obtenir : <br>\n",
    "<ul>\n",
    "<li>Un dossier contenant des sous dossier de 1000 imagettes chacun </li>\n",
    "<li>Un fichier \"vérité terrain\" de type csv avec le chemin des imagettes, leurs classes et leurs labels </li>\n",
    "</ul>\n"
   ]
  },
  {
   "cell_type": "code",
   "execution_count": 4,
   "metadata": {},
   "outputs": [
    {
     "name": "stdout",
     "output_type": "stream",
     "text": [
      "2021-08-06 10:51:33.217770\n"
     ]
    }
   ],
   "source": [
    "from osgeo import gdal\n",
    "\n",
    "from osgeo import ogr\n",
    "\n",
    "from osgeo import osr\n",
    "#from gdalconst import *\n",
    "\n",
    "from osgeo import gdalconst\n",
    "import os\n",
    "\n",
    "import numpy \n",
    "import csv\n",
    "\n",
    "from datetime import datetime \n",
    "print(str(datetime.now()))\n",
    "\n",
    "import random"
   ]
  },
  {
   "cell_type": "markdown",
   "metadata": {},
   "source": [
    ">Le dossier ou seront crée les imagettes est défini ci dessous. <br>\n",
    "Attention ! Il faut que le dossier n'existe pas au préalable, la fonction se charge de le créer. "
   ]
  },
  {
   "cell_type": "code",
   "execution_count": 2,
   "metadata": {},
   "outputs": [
    {
     "ename": "FileExistsError",
     "evalue": "[WinError 183] Impossible de créer un fichier déjà existant: 'Dataset_50x50_Niveau2_v9/'",
     "output_type": "error",
     "traceback": [
      "\u001b[1;31m---------------------------------------------------------------------------\u001b[0m",
      "\u001b[1;31mFileExistsError\u001b[0m                           Traceback (most recent call last)",
      "\u001b[1;32m<ipython-input-2-569d59251e48>\u001b[0m in \u001b[0;36m<module>\u001b[1;34m\u001b[0m\n\u001b[0;32m      1\u001b[0m \u001b[0mpath\u001b[0m \u001b[1;33m=\u001b[0m \u001b[1;34m\"Dataset_50x50_Niveau2_v9/\"\u001b[0m\u001b[1;33m\u001b[0m\u001b[1;33m\u001b[0m\u001b[0m\n\u001b[1;32m----> 2\u001b[1;33m \u001b[0mos\u001b[0m\u001b[1;33m.\u001b[0m\u001b[0mmkdir\u001b[0m\u001b[1;33m(\u001b[0m\u001b[0mpath\u001b[0m\u001b[1;33m)\u001b[0m\u001b[1;33m\u001b[0m\u001b[1;33m\u001b[0m\u001b[0m\n\u001b[0m",
      "\u001b[1;31mFileExistsError\u001b[0m: [WinError 183] Impossible de créer un fichier déjà existant: 'Dataset_50x50_Niveau2_v9/'"
     ]
    }
   ],
   "source": [
    "path = \"Dataset_50x50_Niveau2_v9/\"\n",
    "os.mkdir(path)"
   ]
  },
  {
   "cell_type": "markdown",
   "metadata": {},
   "source": [
    ">src = image en Geotiff à découper <br>\n",
    "bd = Vérité terrain (masque pré-traité sur Qgis) en .shp"
   ]
  },
  {
   "cell_type": "code",
   "execution_count": 10,
   "metadata": {},
   "outputs": [],
   "source": [
    "src = 'Data_final/20201105_mosaic_pms_8bits.tif'\n",
    "bd = 'Phase2/masque_projete_2020.shp'\n"
   ]
  },
  {
   "cell_type": "code",
   "execution_count": null,
   "metadata": {},
   "outputs": [],
   "source": [
    "src2 = 'Data_final/2018_pléiades_run_pms_8bits.tif'\n",
    "bd2 = 'Phase2/masque_finale_2018.shp'"
   ]
  },
  {
   "cell_type": "markdown",
   "metadata": {},
   "source": [
    ">Résolution donc largeur et longueur exprimé en m"
   ]
  },
  {
   "cell_type": "code",
   "execution_count": 11,
   "metadata": {},
   "outputs": [],
   "source": [
    "PixelRes= 0.5 "
   ]
  },
  {
   "cell_type": "markdown",
   "metadata": {},
   "source": [
    ">Le \"datafile_path\" est le nom du fichier csv contenant les informations sur le chemin des imagettes, leurs classe en int et leur labels en string"
   ]
  },
  {
   "cell_type": "code",
   "execution_count": 12,
   "metadata": {},
   "outputs": [],
   "source": [
    "RasterFormat ='GTiff'\n",
    "VectorFormat='ESRI Shapefile'\n",
    "datafile_path = 'Dataset_50x50_Niveau2_v9.csv'"
   ]
  },
  {
   "cell_type": "code",
   "execution_count": 13,
   "metadata": {},
   "outputs": [
    {
     "ename": "AttributeError",
     "evalue": "'NoneType' object has no attribute 'GetProjectionRef'",
     "output_type": "error",
     "traceback": [
      "\u001b[1;31m---------------------------------------------------------------------------\u001b[0m",
      "\u001b[1;31mAttributeError\u001b[0m                            Traceback (most recent call last)",
      "\u001b[1;32m<ipython-input-13-b97708fd163e>\u001b[0m in \u001b[0;36m<module>\u001b[1;34m\u001b[0m\n\u001b[0;32m      1\u001b[0m \u001b[1;31m# Open datasets\u001b[0m\u001b[1;33m\u001b[0m\u001b[1;33m\u001b[0m\u001b[1;33m\u001b[0m\u001b[0m\n\u001b[0;32m      2\u001b[0m \u001b[0mRaster\u001b[0m \u001b[1;33m=\u001b[0m\u001b[0mgdal\u001b[0m\u001b[1;33m.\u001b[0m\u001b[0mOpen\u001b[0m\u001b[1;33m(\u001b[0m\u001b[0msrc\u001b[0m\u001b[1;33m,\u001b[0m \u001b[0mgdal\u001b[0m\u001b[1;33m.\u001b[0m\u001b[0mGA_ReadOnly\u001b[0m\u001b[1;33m)\u001b[0m\u001b[1;33m\u001b[0m\u001b[1;33m\u001b[0m\u001b[0m\n\u001b[1;32m----> 3\u001b[1;33m \u001b[0mProjection\u001b[0m \u001b[1;33m=\u001b[0m \u001b[0mRaster\u001b[0m\u001b[1;33m.\u001b[0m\u001b[0mGetProjectionRef\u001b[0m\u001b[1;33m(\u001b[0m\u001b[1;33m)\u001b[0m\u001b[1;33m\u001b[0m\u001b[1;33m\u001b[0m\u001b[0m\n\u001b[0m\u001b[0;32m      4\u001b[0m \u001b[1;33m\u001b[0m\u001b[0m\n\u001b[0;32m      5\u001b[0m \u001b[0mRaster2\u001b[0m \u001b[1;33m=\u001b[0m\u001b[0mgdal\u001b[0m\u001b[1;33m.\u001b[0m\u001b[0mOpen\u001b[0m\u001b[1;33m(\u001b[0m\u001b[0msrc2\u001b[0m\u001b[1;33m,\u001b[0m \u001b[0mgdal\u001b[0m\u001b[1;33m.\u001b[0m\u001b[0mGA_ReadOnly\u001b[0m\u001b[1;33m)\u001b[0m\u001b[1;33m\u001b[0m\u001b[1;33m\u001b[0m\u001b[0m\n",
      "\u001b[1;31mAttributeError\u001b[0m: 'NoneType' object has no attribute 'GetProjectionRef'"
     ]
    }
   ],
   "source": [
    "# Open datasets\n",
    "Raster =gdal.Open(src, gdal.GA_ReadOnly)\n",
    "Projection = Raster.GetProjectionRef()"
   ]
  },
  {
   "cell_type": "code",
   "execution_count": null,
   "metadata": {},
   "outputs": [],
   "source": [
    "Raster2 =gdal.Open(src2, gdal.GA_ReadOnly)\n",
    "Projection2 = Raster2.GetProjectionRef()"
   ]
  },
  {
   "cell_type": "markdown",
   "metadata": {},
   "source": [
    "<b> Pour choisir le niveau de classification il faut changer la ligne \" writer.writerow\" avec les codes et niveaux correspondant. </b>"
   ]
  },
  {
   "cell_type": "code",
   "execution_count": 3,
   "metadata": {},
   "outputs": [
    {
     "ename": "NameError",
     "evalue": "name 'VectorFormat' is not defined",
     "output_type": "error",
     "traceback": [
      "\u001b[1;31m---------------------------------------------------------------------------\u001b[0m",
      "\u001b[1;31mNameError\u001b[0m                                 Traceback (most recent call last)",
      "\u001b[1;32m<ipython-input-3-e4d25a81fb3c>\u001b[0m in \u001b[0;36m<module>\u001b[1;34m\u001b[0m\n\u001b[1;32m----> 1\u001b[1;33m \u001b[0mVectorDriver\u001b[0m \u001b[1;33m=\u001b[0m \u001b[0mogr\u001b[0m\u001b[1;33m.\u001b[0m\u001b[0mGetDriverByName\u001b[0m\u001b[1;33m(\u001b[0m\u001b[0mVectorFormat\u001b[0m\u001b[1;33m)\u001b[0m\u001b[1;33m\u001b[0m\u001b[1;33m\u001b[0m\u001b[0m\n\u001b[0m\u001b[0;32m      2\u001b[0m \u001b[0mVectorDataset\u001b[0m \u001b[1;33m=\u001b[0m \u001b[0mVectorDriver\u001b[0m\u001b[1;33m.\u001b[0m\u001b[0mOpen\u001b[0m\u001b[1;33m(\u001b[0m\u001b[0mbd\u001b[0m\u001b[1;33m,\u001b[0m\u001b[1;36m0\u001b[0m\u001b[1;33m)\u001b[0m\u001b[1;31m# 0=Read-only, 1=Read-Write\u001b[0m\u001b[1;33m\u001b[0m\u001b[1;33m\u001b[0m\u001b[0m\n\u001b[0;32m      3\u001b[0m \u001b[0mlayer\u001b[0m \u001b[1;33m=\u001b[0m \u001b[0mVectorDataset\u001b[0m\u001b[1;33m.\u001b[0m\u001b[0mGetLayer\u001b[0m\u001b[1;33m(\u001b[0m\u001b[1;33m)\u001b[0m\u001b[1;33m\u001b[0m\u001b[1;33m\u001b[0m\u001b[0m\n\u001b[0;32m      4\u001b[0m \u001b[0mFeatureCount\u001b[0m \u001b[1;33m=\u001b[0m \u001b[0mlayer\u001b[0m\u001b[1;33m.\u001b[0m\u001b[0mGetFeatureCount\u001b[0m\u001b[1;33m(\u001b[0m\u001b[1;33m)\u001b[0m\u001b[1;33m\u001b[0m\u001b[1;33m\u001b[0m\u001b[0m\n\u001b[0;32m      5\u001b[0m \u001b[1;33m\u001b[0m\u001b[0m\n",
      "\u001b[1;31mNameError\u001b[0m: name 'VectorFormat' is not defined"
     ]
    }
   ],
   "source": [
    "VectorDriver = ogr.GetDriverByName(VectorFormat)\n",
    "VectorDataset = VectorDriver.Open(bd,0)# 0=Read-only, 1=Read-Write\n",
    "layer = VectorDataset.GetLayer()\n",
    "FeatureCount = layer.GetFeatureCount()\n",
    "\n",
    "field_names=[field.name for field in layer.schema]\n",
    "print(field_names)"
   ]
  },
  {
   "cell_type": "code",
   "execution_count": null,
   "metadata": {},
   "outputs": [],
   "source": [
    "VectorDriver2 = ogr.GetDriverByName(VectorFormat)\n",
    "VectorDataset2 = VectorDriver2.Open(bd2,0)# 0=Read-only, 1=Read-Write\n",
    "layer2 = VectorDataset2.GetLayer()\n",
    "FeatureCount2 = layer2.GetFeatureCount()\n",
    "\n",
    "field_names2=[field.name for field in layer2.schema]\n",
    "print(field_names2)"
   ]
  },
  {
   "cell_type": "code",
   "execution_count": 76,
   "metadata": {},
   "outputs": [],
   "source": [
    "# Iterate through the shapefile features\n",
    "Count = 0\n",
    "i =0\n",
    "\n",
    "with open(datafile_path, 'w') as f: \n",
    "    writer = csv.writer(f)\n",
    "    writer.writerow(['Image FileName',' Class', 'Label'])\n",
    "    \n",
    "    for feature in layer:\n",
    "        if i==0 or i%1000==0:\n",
    "            Count+=1\n",
    "            os.mkdir(path+str(Count))\n",
    "        i+=1\n",
    "        geom = feature.GetGeometryRef() \n",
    "        minX, maxX, minY, maxY = geom.GetEnvelope() # Get bounding box of the shapefile feature\n",
    "                #OutTileName = str(feature.GetField(\"id\")+'.SomeTileName.tif'\n",
    "            \n",
    "        OutTileName = str(path)+str(Count)+'/'+str(feature.GetField(\"id\"))+'.tif'\n",
    "        \n",
    "        gdal.Warp(OutTileName, Raster, format=RasterFormat, outputType = gdal.gdalconst.GDT_Byte, outputBounds=[minX, minY, maxX, maxY], xRes=PixelRes, yRes=PixelRes, dstSRS='EPSG:2975', resampleAlg=None, options=['COMPRESS=NONE'])\n",
    "               \n",
    "        writer.writerow([str(OutTileName), str(feature.GetField(\"Code4\")),str(feature.GetField(\"Niveau2\")), ])    \n",
    "       \n",
    "    for feature in layer2:\n",
    "        if i==0 or i%1000==0:\n",
    "            Count+=1\n",
    "            os.mkdir(path+str(Count))\n",
    "        i+=1\n",
    "        geom = feature.GetGeometryRef() \n",
    "        minX, maxX, minY, maxY = geom.GetEnvelope() # Get bounding box of the shapefile feature\n",
    "                #OutTileName = str(feature.GetField(\"id\")+'.SomeTileName.tif'\n",
    "        OutTileName = str(path)+str(Count)+'/'+str(feature.GetField(\"id\"))+'.tif'\n",
    "        gdal.Warp(OutTileName, Raster2, format=RasterFormat, outputType = gdal.gdalconst.GDT_Byte, outputBounds=[minX, minY, maxX, maxY], xRes=PixelRes, yRes=PixelRes, dstSRS='EPSG:2975', resampleAlg=None, options=['COMPRESS=NONE'])\n",
    "                # output = gdal.Open(OutTileName, gdal.GA_ReadOnly)\n",
    "                #OutTile = None # Close dataset\n",
    "        writer.writerow([str(OutTileName), str(feature.GetField(\"Code2\")),str(feature.GetField(\"Niveau2\")), ])\n",
    "        \n",
    "\n",
    "        \n",
    "   \n",
    "        \n",
    "        \n",
    "    "
   ]
  },
  {
   "cell_type": "code",
   "execution_count": 77,
   "metadata": {},
   "outputs": [
    {
     "name": "stdout",
     "output_type": "stream",
     "text": [
      "Done.\n",
      "2021-07-13 19:56:15.762019\n"
     ]
    }
   ],
   "source": [
    "# Close datasets\n",
    "Raster = None\n",
    "VectorDataset.Destroy()\n"
   ]
  },
  {
   "cell_type": "code",
   "execution_count": null,
   "metadata": {},
   "outputs": [],
   "source": [
    "Raster2 = None\n",
    "VectorDataset2.Destroy()"
   ]
  },
  {
   "cell_type": "code",
   "execution_count": null,
   "metadata": {},
   "outputs": [],
   "source": [
    "print(\"Done.\")\n",
    "print(str(datetime.now()))"
   ]
  },
  {
   "cell_type": "code",
   "execution_count": null,
   "metadata": {},
   "outputs": [],
   "source": []
  }
 ],
 "metadata": {
  "kernelspec": {
   "display_name": "Python 3",
   "language": "python",
   "name": "python3"
  },
  "language_info": {
   "codemirror_mode": {
    "name": "ipython",
    "version": 3
   },
   "file_extension": ".py",
   "mimetype": "text/x-python",
   "name": "python",
   "nbconvert_exporter": "python",
   "pygments_lexer": "ipython3",
   "version": "3.8.5"
  }
 },
 "nbformat": 4,
 "nbformat_minor": 4
}
